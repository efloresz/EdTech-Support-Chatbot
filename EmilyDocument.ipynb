{
 "cells": [
  {
   "cell_type": "markdown",
   "metadata": {},
   "source": [
    "Research:\n",
    "\n",
    "RRNS - recurrent neural network\n",
    "* deep learning model used to process data inputs into outputs\n",
    "\n",
    "Sequential Models - class of machine learning models\n",
    "* designed for tasks that involve sequential ordered data\n",
    "\n",
    "Keras - open-source libary similar to (TensorFlow libary)\n",
    "* provides python interface for artifical neural networks\n"
   ]
  },
  {
   "cell_type": "markdown",
   "metadata": {},
   "source": [
    "Project Documentations:"
   ]
  },
  {
   "cell_type": "markdown",
   "metadata": {},
   "source": [
    "During week 1 and 2: I developed the chatbot user interface.\n",
    "1) My process started off with creating a wireframe that layed out the UX design of the application."
   ]
  },
  {
   "cell_type": "code",
   "execution_count": null,
   "metadata": {},
   "outputs": [],
   "source": [
    "class ChatBotUI:\n",
    "    def __init__(self, master):\n",
    "        self.master = master\n",
    "        master.title(\"Learnify ChatBot\")\n",
    "        master.configure(bg=\"#FF69B4\")\n",
    "\n",
    "        self.message_listbox = tk.Listbox(master, width=80, height=30)\n",
    "        self.message_listbox.grid(row=0, column=0, padx=10, pady=10, columnspan=2)\n",
    "\n",
    "        self.scrollbar = tk.Scrollbar(master, orient=tk.VERTICAL, command=self.message_listbox.yview)\n",
    "        self.scrollbar.grid(row=0, column=2, sticky='nsew')\n",
    "        self.message_listbox.config(yscrollcommand=self.scrollbar.set)\n",
    "\n",
    "        self.entry_field = tk.Entry(master, width=50)\n",
    "        self.entry_field.grid(row=1, column=0, padx=10, pady=10)\n",
    "\n",
    "        self.send_button = tk.Button(master, text=\"Send\", command=self.send_message)\n",
    "        self.send_button.grid(row=1, column=1, padx=10, pady=10)"
   ]
  },
  {
   "cell_type": "markdown",
   "metadata": {},
   "source": [
    "2) Next, I implemented built in responses that greets the user."
   ]
  },
  {
   "cell_type": "code",
   "execution_count": 1,
   "metadata": {},
   "outputs": [],
   "source": [
    "self.bot_responses = [\n",
    "    \"How can I assist you today?\",\n",
    "    \"What can I do for you?\",\n",
    "    \"How may I help you?\",\n",
    "    \"How can I help you \"\n",
    "]"
   ]
  },
  {
   "cell_type": "markdown",
   "metadata": {},
   "source": [
    "3) After that, I added the interactions between the user and bot."
   ]
  },
  {
   "cell_type": "code",
   "execution_count": null,
   "metadata": {},
   "outputs": [],
   "source": [
    "def send_message(self):\n",
    "        # TODO: fix the intital response (outputs bot_responses)\n",
    "        message = self.entry_field.get()\n",
    "        if message:\n",
    "            self.message_listbox.insert(tk.END, \"You: \" + message)\n",
    "            self.entry_field.delete(0, tk.END)\n",
    "\n",
    "            # check if message matches any rule-based responses\n",
    "            for key in self.rule_responses:\n",
    "                if key.lower() in message.lower():\n",
    "                    bot_response = self.rule_responses[key]\n",
    "                    break\n",
    "            else:\n",
    "                bot_response = self.bot_responses[random.randint(0, len(self.bot_responses) - 1)]    \n",
    "            self.message_listbox.insert(tk.END, \"Groove: \" + bot_response)\n",
    "            self.message_listbox.see(tk.END)  "
   ]
  },
  {
   "cell_type": "markdown",
   "metadata": {},
   "source": [
    "4) And recently, I added rule-based responses. "
   ]
  },
  {
   "cell_type": "code",
   "execution_count": null,
   "metadata": {},
   "outputs": [],
   "source": [
    " # Rule-based responses\n",
    "self.rule_responses = {\n",
    "    \"What course does this chatbot focus on?\": \n",
    "    \"This chatbot focuses on the Software Design course.\",\n",
    "    \"What is this course about?\":\n",
    "    \"This course focuses on design principles, and UML methodologies.\",\n",
    "    \"Why is this course important for SWE?\":\n",
    "    \"You focus on the user and business requirments needed during the intial development process.\"\n",
    "}"
   ]
  },
  {
   "cell_type": "markdown",
   "metadata": {},
   "source": [
    "My next steps are to import the data via a text file from notion and to train the NPL model to interact with the provided dataset."
   ]
  }
 ],
 "metadata": {
  "kernelspec": {
   "display_name": "Python 3",
   "language": "python",
   "name": "python3"
  },
  "language_info": {
   "codemirror_mode": {
    "name": "ipython",
    "version": 3
   },
   "file_extension": ".py",
   "mimetype": "text/x-python",
   "name": "python",
   "nbconvert_exporter": "python",
   "pygments_lexer": "ipython3",
   "version": "3.11.4"
  }
 },
 "nbformat": 4,
 "nbformat_minor": 2
}
