{
 "cells": [
  {
   "cell_type": "markdown",
   "metadata": {},
   "source": [
    "Product Requirements Document (PRD) \n",
    "\n",
    "1. Introduction: \n",
    "The project aims to develop a chatbot into an educational technology platform to enhance user experience, and provide personalized learning support for a specific course.\n",
    "\n",
    " 2. Objectives:\n",
    "Implement a conversational interface to facilitate interactions between users and the platform. \n",
    "\n",
    " 3. Features:Enable users to interact with the chatbot via natural language input. \n",
    "\n",
    "4. Wireframes: on seperate file\n",
    "\n",
    "5. Functional Requirements: \n",
    "- User Interface: Design a user-friendly chat interface for interaction with the chatbot. \n",
    "- Query Handling: Implement natural language processing to understand and respond to user queries effectively. \n",
    "\n",
    "6. Non-functional Requirements: \n",
    "- Design the chatbot system to handle a large number of users. \n",
    "- Optimize response times to provide quick and accurate responses to user queries. \n",
    "\n",
    "7. Dependencies: \n",
    "- Technology Stack: Natural Language Processing (NLP) frameworks such as NLTK. \n",
    "- Machine learning libraries like PyTorch, Tkinter. \n",
    "- Front-end technologies for the chat interface (e.g., React, Vue.js). \n",
    "- Backend technologies for handling user requests and data processing (e.g., Node.js, Django). \n",
    "\n",
    "8. Risks: \n",
    "- Potential difficulties in understanding and processing user queries accurately. \n",
    "\n",
    "9. Target Users: Development Team, Product Managers, Educators, Students \n",
    "\n",
    "11. Future Enhancements: Support for additional languages.\n",
    "\n",
    "12. Conclusion: The EdTech Chatbot project will enchance the educational experience by providing users with a personalized and interactive learning assistant. The chatbot will help learners to achieve their educational goals more efficiently and effectively.\n"
   ]
  }
 ],
 "metadata": {
  "language_info": {
   "name": "python"
  }
 },
 "nbformat": 4,
 "nbformat_minor": 2
}
