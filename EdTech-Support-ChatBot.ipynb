{
 "cells": [
  {
   "cell_type": "code",
   "execution_count": 2,
   "metadata": {},
   "outputs": [],
   "source": [
    "# TASK:\n",
    "# Research various uses of chatbots and models being used to create these,\n",
    "# Advantages of each model (Eg. BERT, GPT 3.5/ GPT 4.0 turbo, etc)"
   ]
  },
  {
   "cell_type": "markdown",
   "metadata": {},
   "source": [
    " GPT 3.5 by OpenAI\n",
    " *  Best Use Cases: moderate to high traffic. Scaling is possible by deploying additional instances.\n",
    " - Cost: starting at $0.002/1000 tokens, equivalent to approximately 750 words\n"
   ]
  },
  {
   "cell_type": "markdown",
   "metadata": {},
   "source": [
    "GPT-4 by OpenAI\n",
    "* Best Use Cases: managing high traffic. Multiple model instances enable further scaling.\n",
    "- Cost: starting at $0.03/1000 tokens"
   ]
  },
  {
   "cell_type": "markdown",
   "metadata": {},
   "source": [
    "Bard by Google\n",
    "* Best Use Casew: built to efficiently handle high traffic loads. Added instances can further increase capacity.\n",
    "- Cost: free"
   ]
  },
  {
   "cell_type": "markdown",
   "metadata": {},
   "source": [
    "LlaMA by Meta\n",
    "* Best Use Cases: can manage moderate to very high levels of traffic when augmented with more instances.\n",
    "- Cost: free\n"
   ]
  },
  {
   "cell_type": "markdown",
   "metadata": {},
   "source": [
    "Falcon by UAE's Technology Innovation Institute (TII)\n",
    "* Best Use Cases: optimized for the highest traffic demands through its multi-query attention capabilities. For even greater loads, you can deploy multiple model instances.\n",
    "- Cost: free"
   ]
  },
  {
   "cell_type": "markdown",
   "metadata": {},
   "source": [
    "Cohere invested by Oracle (startup)\n",
    "* Best Use Cases: primed for high traffic. Additional instances can amplify its handling capacity.\n",
    "- Cost: starting at $0.4/1M tokens"
   ]
  },
  {
   "cell_type": "markdown",
   "metadata": {},
   "source": [
    "PaLM by Google\n",
    "- PaLM is designed with privacy and data security in mind\n",
    "* Best for sensitive projects, building secure eCommerce websites/platforms with sensitive user info.\n",
    "- Best Use Cases: optimized for the highest traffic demands. Additional model instances improve load handling\n",
    "* Cost: free public preview, paid plans to be announced closer to general availability\n"
   ]
  },
  {
   "cell_type": "markdown",
   "metadata": {},
   "source": [
    "Overview: \n",
    "* Small websites (blogs) - GPT 3.5\n",
    "* Medium Websites - GPT-4, BARD\n",
    "* Large websites: LlaMA, Falcon, Cohere"
   ]
  },
  {
   "cell_type": "markdown",
   "metadata": {},
   "source": [
    "Holistic Conclusion\n",
    "- Top Choices: Bard, LlaMA, Falcon (Most efficent at no cost)"
   ]
  }
 ],
 "metadata": {
  "kernelspec": {
   "display_name": "Python 3",
   "language": "python",
   "name": "python3"
  },
  "language_info": {
   "codemirror_mode": {
    "name": "ipython",
    "version": 3
   },
   "file_extension": ".py",
   "mimetype": "text/x-python",
   "name": "python",
   "nbconvert_exporter": "python",
   "pygments_lexer": "ipython3",
   "version": "3.11.4"
  }
 },
 "nbformat": 4,
 "nbformat_minor": 2
}
